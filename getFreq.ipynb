{
 "nbformat": 4,
 "nbformat_minor": 2,
 "metadata": {
  "language_info": {
   "name": "python",
   "codemirror_mode": {
    "name": "ipython",
    "version": 3
   },
   "version": "3.7.0-final"
  },
  "orig_nbformat": 2,
  "file_extension": ".py",
  "mimetype": "text/x-python",
  "name": "python",
  "npconvert_exporter": "python",
  "pygments_lexer": "ipython3",
  "version": 3,
  "kernelspec": {
   "name": "python37064bitcebcf6ff907a4c2e97528d87dcbc094c",
   "display_name": "Python 3.7.0 64-bit"
  }
 },
 "cells": [
  {
   "cell_type": "code",
   "execution_count": null,
   "metadata": {},
   "outputs": [],
   "source": [
    "# Imports\n",
    "import scipy.io.wavfile\n",
    "import scipy.fftpack\n",
    "import scipy.signal\n",
    "import numpy as np"
   ]
  },
  {
   "cell_type": "code",
   "execution_count": null,
   "metadata": {},
   "outputs": [],
   "source": [
    "# Graph Imports\n",
    "import cufflinks as cf\n",
    "import plotly.express as px\n",
    "import plotly.offline\n",
    "import plotly.graph_objects as go\n",
    "import psutil\n",
    "\n",
    "cf.go_offline()\n",
    "cf.set_config_file(offline=False, world_readable=True)"
   ]
  },
  {
   "cell_type": "code",
   "execution_count": null,
   "metadata": {},
   "outputs": [],
   "source": [
    "# Read Wav\n",
    "def readMonoWAV(filename):\n",
    "  wavFileSampleRate, wavFileSamplesLR = scipy.io.wavfile.read('lick.wav')\n",
    "  wavFileSamplesLR = [((x[0] + x[1]) / 2) for x in wavFileSamplesLR]\n",
    "  return (wavFileSampleRate, wavFileSamplesLR)\n",
    "\n",
    "wavFileSampleRate, wavFileSamplesLR = readMonoWAV('lick.wav')"
   ]
  },
  {
   "cell_type": "code",
   "execution_count": null,
   "metadata": {},
   "outputs": [],
   "source": [
    "# Show WAV\n",
    "waveformFig = px.scatter(y=wavFileSamplesLR, x=range(len(wavFileSamplesLR)))\n",
    "waveformFig.show()"
   ]
  },
  {
   "cell_type": "code",
   "execution_count": null,
   "metadata": {},
   "outputs": [],
   "source": [
    "def findFFT(samples,sampleRate,activationLevel):\n",
    "    numSamples = len(wavFileSamplesLR)\n",
    "    timeStep = (1 /sampleRate)\n",
    "    \n",
    "    chunk = samples\n",
    "    chunkFFT = np.abs(scipy.fftpack.fft(chunk))\n",
    "    chunkFFTFreqs = scipy.fftpack.fftfreq(int(len(chunkFFT)),d=timeStep)\n",
    "    chunkFFTPos = chunkFFT[:int(abs(len(chunkFFT)))]\n",
    "\n",
    "    chunkVolumeArr = np.array(samples)\n",
    "    chunkVolumeArr = np.absolute(chunkVolumeArr)\n",
    "    chunkVolume = np.mean(chunkVolumeArr)\n",
    "\n",
    "    return (chunkFFT,chunkFFTPos, chunkFFTFreqs, chunkVolume)\n",
    "\n",
    "def getDominantFreqs(samples,sampleRate,chunkSize=0, activationLevel=12.5):\n",
    "    if chunkSize==0:\n",
    "        chunkSize = int(sampleRate / 20 )\n",
    "    startChunk = 0\n",
    "    endChunk = startChunk + chunkSize\n",
    "    activationLevel = max(samples) * (activationLevel * 0.01)\n",
    "    print(chunkSize)\n",
    "    numSamples = len(samples)\n",
    "    print(numSamples)\n",
    "    domFreqs = []\n",
    "    while (endChunk < numSamples):\n",
    "        (chunkFFT,chunkFFTPos, chunkFFTFreqs, chunkVolume) = findFFT(samples[startChunk:endChunk],sampleRate,activationLevel)\n",
    "        if (chunkVolume < activationLevel):\n",
    "            startChunk = endChunk\n",
    "            endChunk += chunkSize\n",
    "            domFreqs.append(0.0)\n",
    "            continue\n",
    "\n",
    "        FFTPeaksIdx, _ = scipy.signal.find_peaks(chunkFFTPos)\n",
    "        FFTPeaks = [chunkFFTFreqs[x] for x in FFTPeaksIdx]\n",
    "        domFreq = chunkFFTFreqs[np.argmax(chunkFFT)]\n",
    "        domFreqs.append(domFreq)\n",
    "        print(domFreq)\n",
    "        startChunk = endChunk\n",
    "        endChunk += chunkSize\n",
    "\n",
    "    timeWindow = chunkSize / sampleRate\n",
    "    return (domFreqs, timeWindow)\n",
    "\n",
    "(domFreqs, timeWindow) = getDominantFreqs(wavFileSamplesLR, wavFileSampleRate,chunkSize=0, activationLevel=12.5)\n",
    "\n",
    "\n",
    "\n",
    "\n",
    "\n"
   ]
  },
  {
   "cell_type": "code",
   "execution_count": 7,
   "metadata": {},
   "outputs": [
    {
     "output_type": "stream",
     "name": "stdout",
     "text": "([0.0, 0.0, 0.0, 0.0, 0.0, 0.0, 0.0, 0.0, 0.0, 0.0, 0.0, 0.0, 0.0, 0.0, 0.0, 0.0, 0.0, 0.0, 0.0, 0.0, 0.0, 0.0, 0.0, 0.0, 0.0, 0.0, 0.0, 0.0, 0.0, 0.0, 0.0, 0.0, 0.0, 0.0, 0.0, 300.0, 300.0, 300.0, 300.0, 300.0, 300.0, 0.0, 0.0, 340.0, 340.0, 340.0, 340.0, 0.0, 0.0, 0.0, 1400.0, 1400.0, 1400.0, 360.0, 0.0, 0.0, 0.0, 400.0, 400.0, 400.0, 400.0, 400.0, 400.0, 0.0, 0.0, 0.0, 340.0, 340.0, 340.0, 340.0, 0.0, 0.0, 0.0, 0.0, 0.0, 0.0, 0.0, 0.0, 0.0, 0.0, 0.0, 260.0, 260.0, 260.0, 260.0, 0.0, 0.0, 0.0, 0.0, 0.0, 300.0, 300.0, 300.0, 300.0, 300.0, 300.0, 300.0, 300.0, 300.0, 0.0, 0.0, 0.0, 0.0, 0.0, 0.0, 0.0, 0.0, 0.0, 0.0, 0.0, 0.0, 0.0, 0.0, 0.0, 0.0, 0.0, 0.0, 0.0, 0.0, 0.0, 0.0, 0.0, 0.0, 0.0, 0.0, 0.0, 0.0, 0.0, 0.0, 0.0, 0.0, 0.0, 0.0, 0.0, 0.0, 0.0, 0.0, 0.0, 0.0, 0.0, 0.0, 0.0, 0.0, 0.0, 0.0, 0.0, 0.0, 0.0, 0.0, 0.0, 0.0, 0.0, 0.0, 0.0, 0.0, 0.0, 0.0, 0.0, 0.0, 0.0, 0.0, 0.0, 0.0, 0.0, 0.0, 0.0, 0.0, 0.0, 0.0, 0.0, 0.0, 0.0, 0.0, 0.0, 0.0, 0.0, 0.0, 0.0, 0.0, 0.0, 0.0, 0.0, 0.0, 0.0, 0.0, 0.0, 0.0, 0.0, 0.0], 0.05)\n"
    }
   ],
   "source": [
    "print((domFreqs, timeWindow))"
   ]
  },
  {
   "cell_type": "code",
   "execution_count": 10,
   "metadata": {},
   "outputs": [
    {
     "output_type": "stream",
     "name": "stdout",
     "text": "File Successfully written to \"LickSinWave.wav\" at Sample Rate: 48000\n"
    },
    {
     "output_type": "execute_result",
     "data": {
      "text/plain": "0"
     },
     "metadata": {},
     "execution_count": 10
    }
   ],
   "source": [
    "def generateSinFromFreqs(domFreqs, timeWindow, outputSampleRate, fileOutput):\n",
    "    finalSin = []\n",
    "    sinArr = []\n",
    "\n",
    "    for frequency in domFreqs:\n",
    "        t = np.linspace(0, timeWindow, outputSampleRate * timeWindow )  #  Produces a 5 second Audio-File\n",
    "        y = np.sin(frequency * 2 * np.pi * t) \n",
    "        sinArr.append(y)\n",
    "\n",
    "    finalSin = np.concatenate(sinArr)\n",
    "\n",
    "    if not fileOutput.endswith('.wav'):\n",
    "        fileOutput += '.wav'\n",
    "\n",
    "    scipy.io.wavfile.write(fileOutput, outputSampleRate, finalSin)\n",
    "\n",
    "    print(f'File Successfully written to \"{fileOutput}\" at Sample Rate: {outputSampleRate}')\n",
    "\n",
    "\n",
    "generateSinFromFreqs(domFreqs, timeWindow, outputSampleRate=48000, fileOutput='LickSinWave')"
   ]
  },
  {
   "cell_type": "code",
   "execution_count": null,
   "metadata": {},
   "outputs": [],
   "source": [
    "\n",
    "length = (chunkSize / wavFileSampleRate )\n",
    "\n",
    "finalSin = []\n",
    "sinArr = []\n",
    "for frequency in domFreqs:\n",
    "    t = np.linspace(0,length, wavFileSampleRate * length)  #  Produces a 5 second Audio-File\n",
    "    y = np.sin(frequency * 2 * np.pi * t)  #  Has frequency of 440Hz\n",
    "    sinArr.append(y)\n",
    "\n",
    "finalSin = np.concatenate(sinArr)\n",
    "scipy.io.wavfile.write('lick_Sin.wav', wavFileSampleRate, finalSin)"
   ]
  },
  {
   "cell_type": "code",
   "execution_count": 12,
   "metadata": {},
   "outputs": [],
   "source": [
    "from mido import *\n",
    "\n",
    "\n",
    "def writeMIDI(domFreqs, timeWindow):\n",
    "    def convertToMIDINote():\n",
    "        \n",
    "    \n",
    "    \n",
    "    mid = mido.MidiFile()\n",
    "    track = mido.MidiTrack()\n",
    "\n",
    "    prevFrequency = 0\n",
    "\n",
    "    for frequency in domFreqs:\n",
    "        if frequency == 0:\n",
    "            prevFrequency = frequency \n",
    "            continue\n",
    "        if frequency != prevFrequency:\n",
    "            track.append(mido.Message('note_on', ))\n",
    "\n"
   ]
  },
  {
   "cell_type": "code",
   "execution_count": 14,
   "metadata": {},
   "outputs": [
    {
     "output_type": "stream",
     "name": "stdout",
     "text": "[415.3046975799451, 369.9944227116344, 311.12698372208087, 246.94165062806198, 184.99721135581711, 130.81278265029923]\n"
    }
   ],
   "source": [
    "a = 440\n",
    "freqs = []\n",
    "count = 1\n",
    "count\n",
    "while (count < 7):\n",
    "    a = a / ((2 ** (1 / 12)) ** count )\n",
    "    freqs.append(a)\n",
    "    count += 1\n",
    "\n",
    "print(freqs)\n",
    "\n"
   ]
  },
  {
   "cell_type": "code",
   "execution_count": null,
   "metadata": {},
   "outputs": [],
   "source": []
  }
 ]
}